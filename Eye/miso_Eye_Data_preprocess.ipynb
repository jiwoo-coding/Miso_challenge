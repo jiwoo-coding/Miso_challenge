{
 "cells": [
  {
   "cell_type": "code",
   "execution_count": null,
   "id": "81628af7",
   "metadata": {},
   "outputs": [],
   "source": [
    "import matplotlib.pyplot as plt #모형 학습시 accuracy와 loss를 저장하기 위한 라이브러리입니다.\n",
    "%matplotlib inline\n",
    "import os\n",
    "import pandas as pd\n",
    "from keras.preprocessing import image\n",
    "from tensorflow.keras.utils import save_img\n",
    "import json\n",
    "from glob import glob\n",
    "import cv2\n",
    "from PIL import Image\n",
    "\n",
    "\"\"\"전처리를 위한 라이브러리\"\"\"\n",
    "import os\n",
    "import pandas as pd\n",
    "import numpy as np"
   ]
  },
  {
   "cell_type": "code",
   "execution_count": null,
   "id": "1fbf8214",
   "metadata": {},
   "outputs": [],
   "source": [
    "path='/mnt/hackerton/dataset/Dataset/'\n",
    "os.listdir( path + 'Eye/Train/' ) # 결막염, 안검내반증, 유루증, 백내장"
   ]
  },
  {
   "attachments": {
    "image.png": {
     "image/png": "[encoded data removed]"
    }
   },
   "cell_type": "markdown",
   "id": "4fbe4ccb",
   "metadata": {},
   "source": [
    "![image.png](attachment:image.png)"
   ]
  },
  {
   "cell_type": "code",
   "execution_count": null,
   "id": "5a1dad7f",
   "metadata": {},
   "outputs": [],
   "source": [
    "# sample\n",
    "train_path = path + 'Eye/Train/Epiphora/'\n",
    "val_path = path + 'Eye/Validation/Epiphora/'"
   ]
  },
  {
   "cell_type": "code",
   "execution_count": null,
   "id": "8a2fb103",
   "metadata": {},
   "outputs": [],
   "source": [
    "#Eye (Train_data)\n",
    "t_co0_paths=glob(path + 'Eye/Train/Conjunctivitis/0/*.png' ) # 결막염\n",
    "t_co1_paths=glob(path + 'Eye/Train/Conjunctivitis/1/*.jpg' )\n",
    "l_co0_paths=glob(path + 'Eye/Validation/Conjunctivitis/0/*.png' )\n",
    "l_co1_paths=glob(path + 'Eye/Validation/Conjunctivitis/1/*.jpg' )\n",
    "t_en0_paths=glob(path + 'Eye/Train/Entropion/0/*.png' ) # 안검내반증\n",
    "t_en1_paths=glob(path + 'Eye/Train/Entropion/1/*.jpg' )\n",
    "l_en0_paths=glob(path + 'Eye/Validation/Entropion/0/*.png' )\n",
    "l_en1_paths=glob(path + 'Eye/Validation/Entropion/1/*.jpg' )\n",
    "t_ep0_paths=glob(path + 'Eye/Train/Epiphora/0/*.png' )  # 유루증\n",
    "t_ep1_paths=glob(path + 'Eye/Train/Epiphora/1/*.jpg' )\n",
    "l_ep0_paths=glob(path + 'Eye/Validation/Epiphora/0/*.png' )\n",
    "l_ep1_paths=glob(path + 'Eye/Validation/Epiphora/1/*.jpg' )\n",
    "t_ca0_paths=glob(path + 'Eye/Train/Cataract/0/*.png' )  # 백내장\n",
    "t_ca1_paths=glob(path + 'Eye/Train/Cataract/1/*.jpg' )\n",
    "t_ca2_paths=glob(path + 'Eye/Train/Cataract/2/*.jpg' )\n",
    "l_ca0_paths=glob(path + 'Eye/Validation/Cataract/0/*.png' )\n",
    "l_ca1_paths=glob(path + 'Eye/Validation/Cataract/1/*.jpg' )\n",
    "l_ca2_paths=glob(path + 'Eye/Validation/Cataract/2/*.jpg' )\n",
    "eye_list=[[t_co0_paths,t_co1_paths,l_co0_paths,l_co1_paths],\n",
    "          [t_en0_paths,t_en1_paths,l_en0_paths,l_en1_paths],\n",
    "          [t_ep0_paths,t_ep1_paths,l_ep0_paths,l_ep1_paths],\n",
    "          [t_ca0_paths,t_ca1_paths,t_ca2_paths,l_ca0_paths,l_ca1_paths,l_ca2_paths]]"
   ]
  },
  {
   "cell_type": "code",
   "execution_count": null,
   "id": "521a15d8",
   "metadata": {},
   "outputs": [],
   "source": [
    "for i in range(len(eye_list)): #정렬\n",
    "    for j in range(len(eye_list[i])):\n",
    "        eye_list[i][j].sort()"
   ]
  },
  {
   "cell_type": "code",
   "execution_count": null,
   "id": "a7f69291",
   "metadata": {},
   "outputs": [],
   "source": [
    "os.path.basename(eye_list[0][1][0][:-4])"
   ]
  },
  {
   "attachments": {
    "image.png": {
     "image/png": "[encoded data removed]"
    }
   },
   "cell_type": "markdown",
   "id": "cdffac33",
   "metadata": {},
   "source": [
    "![image.png](attachment:image.png)"
   ]
  },
  {
   "cell_type": "code",
   "execution_count": null,
   "id": "c7a2c6f9",
   "metadata": {},
   "outputs": [],
   "source": [
    "# 원본\n",
    "img=image.load_img(eye_list[0][1][10], target_size=(250, 250))\n",
    "img"
   ]
  },
  {
   "attachments": {
    "image.png": {
     "image/png": "[encoded data removed]"
    }
   },
   "cell_type": "markdown",
   "id": "035d35ca",
   "metadata": {},
   "source": [
    "![image.png](attachment:image.png)"
   ]
  },
  {
   "cell_type": "code",
   "execution_count": null,
   "id": "ca3c3c13",
   "metadata": {},
   "outputs": [],
   "source": [
    "# 원본 라벨링\n",
    "with open(eye_list[0][3][0]) as f:\n",
    "    data=json.load(f)\n",
    "data"
   ]
  },
  {
   "cell_type": "markdown",
   "id": "33b4c387",
   "metadata": {},
   "source": [
    "### DATA 정제"
   ]
  },
  {
   "cell_type": "code",
   "execution_count": null,
   "id": "cc12f736",
   "metadata": {},
   "outputs": [],
   "source": [
    "# 결막염 이미지 정제\n",
    "def Conjunctivitis_p(image, size):\n",
    "    img=cv2.imread(image, cv2.IMREAD_COLOR)\n",
    "    src_hsv = cv2.cvtColor(img, cv2.COLOR_BGR2HSV)\n",
    "    lower_red = cv2.inRange(src_hsv, (0,0,0), (7,255,255))\n",
    "    upper_red = cv2.inRange(src_hsv, (170,0,0), (180,255,255))\n",
    "    added_red = cv2.addWeighted(lower_red, 1.0, upper_red, 1.0, 0.0) \n",
    "    src_hsv = cv2.cvtColor(src_hsv, cv2.COLOR_HSV2RGB)\n",
    "    img_result = cv2.bitwise_and(src_hsv, src_hsv, mask = added_red)\n",
    "    img_result = cv2.resize(img_result, dsize=size, interpolation=cv2.INTER_AREA)\n",
    "    #to_img=Image.fromarray(img_result)\n",
    "    \n",
    "    return img_result"
   ]
  },
  {
   "cell_type": "code",
   "execution_count": null,
   "id": "0d3142bf",
   "metadata": {},
   "outputs": [],
   "source": [
    "# 백내장 이미지 정제\n",
    "def Cataract_p(image, size):\n",
    "    img=cv2.imread(image, cv2.IMREAD_COLOR)\n",
    "    src_hsv = cv2.cvtColor(img, cv2.COLOR_BGR2HSV)\n",
    "    lower_blue = cv2.inRange(src_hsv, (30,0,0), (110,255,255))\n",
    "    upper_blue = cv2.inRange(src_hsv, (115,0,0), (135,255,255))\n",
    "    added_blue = cv2.addWeighted(lower_blue, 1.0, upper_blue, 1.0, 0.0) \n",
    "    img_result = cv2.bitwise_and(src_hsv, src_hsv, mask = added_blue)\n",
    "    img_result = cv2.resize(img_result, dsize=size, interpolation=cv2.INTER_AREA)\n",
    "    #img_result=Image.fromarray(img_result)\n",
    "    \n",
    "    return img_result"
   ]
  },
  {
   "cell_type": "code",
   "execution_count": null,
   "id": "30946d90",
   "metadata": {},
   "outputs": [],
   "source": [
    "# 유루증 이미지 정제\n",
    "def Epiphora_p(image, size):\n",
    "    img=cv2.imread(image, cv2.IMREAD_COLOR)\n",
    "    src = cv2.cvtColor(img, cv2.COLOR_BGR2GRAY)\n",
    "    blur = cv2.GaussianBlur(src, (0, 0), 1)\n",
    "    ret, dst = cv2.threshold(src, 0, 255, cv2.THRESH_BINARY + cv2.THRESH_OTSU)\n",
    "    edge1 = cv2.Canny(dst, 50, 200)\n",
    "    img_result = cv2.resize(edge1, dsize=size, interpolation=cv2.INTER_AREA)\n",
    "    #img_result=Image.fromarray(edge1)\n",
    "    \n",
    "    return img_result"
   ]
  },
  {
   "cell_type": "code",
   "execution_count": null,
   "id": "ece82b41",
   "metadata": {},
   "outputs": [],
   "source": [
    "# 안검내반증 이미지 정제\n",
    "def Entropion_p(image, size):\n",
    "    img=cv2.imread(image, cv2.IMREAD_COLOR)\n",
    "    src = cv2.cvtColor(img, cv2.COLOR_BGR2GRAY)\n",
    "    blur = cv2.GaussianBlur(src, (0, 0), 1)\n",
    "    ret,bimage = cv2.threshold(blur,50,255,cv2.THRESH_BINARY_INV)\n",
    "    bimage = cv2.dilate(bimage,None)\n",
    "\n",
    "    mode = cv2.RETR_EXTERNAL\n",
    "    method = cv2.CHAIN_APPROX_SIMPLE\n",
    "    contours,hierarchy = cv2.findContours(bimage,mode,method)\n",
    "\n",
    "    maxLength=0\n",
    "    k=0\n",
    "    for i,cnt in enumerate(contours):\n",
    "        perimeter = cv2.arcLength(cnt,closed=True)\n",
    "        if perimeter > maxLength:\n",
    "            maxLength = perimeter\n",
    "            k=i\n",
    "      \n",
    "    cnt = contours[k]\n",
    "    \n",
    "    dst = np.zeros_like(blur)\n",
    "    cv2.drawContours(dst,[cnt],0,(255,0,0),50)\n",
    "    masked = cv2.bitwise_and(blur, dst)\n",
    "    masked = cv2.resize(masked, dsize=size, interpolation=cv2.INTER_AREA)\n",
    "    #img=Image.fromarray(masked)\n",
    "    return masked"
   ]
  },
  {
   "cell_type": "code",
   "execution_count": null,
   "id": "9bfe9035",
   "metadata": {},
   "outputs": [],
   "source": [
    "def validation_f(path_list, size):\n",
    "    for path in path_list:\n",
    "        name=os.path.basename(path[:-4])\n",
    "        fext=os.path.basename(path[-4:])\n",
    "        img=image.load_img(path, target_size=size)\n",
    "        img=image.img_to_array(img)\n",
    "        if not os.path.exists(save_folder+name+fext):\n",
    "            save_img(save_folder+name+fext, img)"
   ]
  },
  {
   "cell_type": "code",
   "execution_count": null,
   "id": "b44f168f",
   "metadata": {},
   "outputs": [],
   "source": [
    "def make_data(path_list, size, func):\n",
    "    for path in path_list:\n",
    "        name=os.path.basename(path[:-4])\n",
    "        fext=os.path.basename(path[-4:])\n",
    "        img=image.load_img(path, target_size=size)\n",
    "        img=image.img_to_array(img)\n",
    "        if not os.path.exists(save_folder+name+fext):\n",
    "            save_img(save_folder+name+fext, img)\n",
    "        new_img=func(path, size)\n",
    "        if not os.path.exists(save_folder+name+'mask'+fext):\n",
    "            cv2.imwrite(save_folder+name+'mask'+fext, new_img)"
   ]
  },
  {
   "cell_type": "code",
   "execution_count": null,
   "id": "e42cc1c9",
   "metadata": {},
   "outputs": [],
   "source": [
    "def make_data2(path_list, size, func):\n",
    "    for path in path_list:\n",
    "        name=os.path.basename(path[:-4])\n",
    "        fext=os.path.basename(path[-4:])\n",
    "        new_img=func(path, size)\n",
    "        if not os.path.exists(save_folder+name+'mask'+fext):\n",
    "            cv2.imwrite(save_folder+name+'mask'+fext, new_img)"
   ]
  },
  {
   "cell_type": "code",
   "execution_count": null,
   "id": "8e6142cf",
   "metadata": {},
   "outputs": [],
   "source": [
    "# 결막염 data 생성 (마스킹+원본)\n",
    "save_folder = '/home/hackerton/Data/Eye2/Train/' + eye_name[0] + '/0/'\n",
    "size=(224,224)\n",
    "if not os.path.exists(save_folder):\n",
    "    os.makedirs(save_folder)\n",
    "make_data(eye_list[0][0],size, Conjunctivitis_p) # data 만들기"
   ]
  },
  {
   "cell_type": "code",
   "execution_count": null,
   "id": "60d6289a",
   "metadata": {},
   "outputs": [],
   "source": [
    "# 결막염 data 생성 (마스킹+원본)\n",
    "save_folder = '/home/hackerton/Data/Eye2/Train/' + eye_name[0] + '/1/'\n",
    "size=(224,224)\n",
    "if not os.path.exists(save_folder):\n",
    "    os.makedirs(save_folder)\n",
    "make_data(eye_list[0][1],size, Conjunctivitis_p) # data 만들기"
   ]
  },
  {
   "cell_type": "code",
   "execution_count": null,
   "id": "d6283e37",
   "metadata": {},
   "outputs": [],
   "source": [
    "# 결막염 valid 옮기기 (마스킹)\n",
    "save_folder = '/home/hackerton/Data/Eye/Validation/' + eye_name[0] + '/0/'\n",
    "size=(224,224)\n",
    "if not os.path.exists(save_folder):\n",
    "    os.makedirs(save_folder)\n",
    "make_data2(eye_list[0][2],size, Conjunctivitis_p)"
   ]
  },
  {
   "cell_type": "code",
   "execution_count": null,
   "id": "f29c9796",
   "metadata": {},
   "outputs": [],
   "source": [
    "# 결막염 valid 옮기기 (원본)\n",
    "save_folder = '/home/hackerton/Data/Eye2/Validation/' + eye_name[0] + '/0/'\n",
    "size=(224,224)\n",
    "if not os.path.exists(save_folder):\n",
    "    os.makedirs(save_folder)\n",
    "validation_f(eye_list[0][2],size)"
   ]
  },
  {
   "cell_type": "code",
   "execution_count": null,
   "id": "db4e3895",
   "metadata": {},
   "outputs": [],
   "source": [
    "# 결막염 valid 옮기기 (마스킹)\n",
    "save_folder = '/home/hackerton/Data/Eye/Validation/' + eye_name[0] + '/1/'\n",
    "size=(224,224)\n",
    "if not os.path.exists(save_folder):\n",
    "    os.makedirs(save_folder)\n",
    "make_data2(eye_list[0][3],size, Conjunctivitis_p)"
   ]
  },
  {
   "cell_type": "code",
   "execution_count": null,
   "id": "4e24b227",
   "metadata": {},
   "outputs": [],
   "source": [
    "# 결막염 valid 옮기기 (원본)\n",
    "save_folder = '/home/hackerton/Data/Eye2/Validation/' + eye_name[0] + '/1/'\n",
    "size=(224,224)\n",
    "if not os.path.exists(save_folder):\n",
    "    os.makedirs(save_folder)\n",
    "validation_f(eye_list[0][3],size)"
   ]
  },
  {
   "cell_type": "code",
   "execution_count": null,
   "id": "9e9b12be",
   "metadata": {},
   "outputs": [],
   "source": [
    "# 백내장 data 생성 (마스킹+원본)\n",
    "save_folder = '/home/hackerton/Data/Eye2/Train/' + eye_name[3] + '/0/'\n",
    "size=(224,224)\n",
    "if not os.path.exists(save_folder):\n",
    "    os.makedirs(save_folder)\n",
    "make_data(eye_list[3][0],size, Cataract_p) # data 만들기"
   ]
  },
  {
   "cell_type": "code",
   "execution_count": null,
   "id": "7a7a7f03",
   "metadata": {},
   "outputs": [],
   "source": [
    "# 백내장 data 생성 (마스킹+원본)\n",
    "save_folder = '/home/hackerton/Data/Eye2/Train/' + eye_name[3] + '/1/'\n",
    "size=(224,224)\n",
    "if not os.path.exists(save_folder):\n",
    "    os.makedirs(save_folder)\n",
    "make_data(eye_list[3][1],size, Cataract_p) # data 만들기"
   ]
  },
  {
   "cell_type": "code",
   "execution_count": null,
   "id": "98a28bf7",
   "metadata": {},
   "outputs": [],
   "source": [
    "# 백내장 data 생성 (마스킹+원본)\n",
    "save_folder = '/home/hackerton/Data/Eye2/Train/' + eye_name[3] + '/2/'\n",
    "size=(224,224)\n",
    "if not os.path.exists(save_folder):\n",
    "    os.makedirs(save_folder)\n",
    "make_data(eye_list[3][2],size, Cataract_p) # data 만들기"
   ]
  },
  {
   "cell_type": "code",
   "execution_count": null,
   "id": "01a60247",
   "metadata": {},
   "outputs": [],
   "source": [
    "# 백내장 valid 옮기기 (원본)\n",
    "save_folder = '/home/hackerton/Data/Eye2/Validation/' + eye_name[3] + '/0/'\n",
    "size=(224,224)\n",
    "if not os.path.exists(save_folder):\n",
    "    os.makedirs(save_folder)\n",
    "validation_f(eye_list[3][3],size)"
   ]
  },
  {
   "cell_type": "code",
   "execution_count": null,
   "id": "822ec424",
   "metadata": {},
   "outputs": [],
   "source": [
    "# 백내장 valid 옮기기 (마스킹)\n",
    "save_folder = '/home/hackerton/Data/Eye/Validation/' + eye_name[3] + '/1/'\n",
    "size=(224,224)\n",
    "if not os.path.exists(save_folder):\n",
    "    os.makedirs(save_folder)\n",
    "make_data2(eye_list[3][4],size, Cataract_p)"
   ]
  },
  {
   "cell_type": "code",
   "execution_count": null,
   "id": "4a6c16ed",
   "metadata": {},
   "outputs": [],
   "source": [
    "# 백내장 valid 옮기기 (원본)\n",
    "save_folder = '/home/hackerton/Data/Eye2/Validation/' + eye_name[3] + '/1/'\n",
    "size=(224,224)\n",
    "if not os.path.exists(save_folder):\n",
    "    os.makedirs(save_folder)\n",
    "validation_f(eye_list[3][4],size)"
   ]
  },
  {
   "cell_type": "code",
   "execution_count": null,
   "id": "9a61b359",
   "metadata": {},
   "outputs": [],
   "source": [
    "# 백내장 valid 옮기기 (마스킹)\n",
    "save_folder = '/home/hackerton/Data/Eye/Validation/' + eye_name[3] + '/2/'\n",
    "size=(224,224)\n",
    "if not os.path.exists(save_folder):\n",
    "    os.makedirs(save_folder)\n",
    "make_data2(eye_list[3][5],size, Cataract_p)"
   ]
  },
  {
   "cell_type": "code",
   "execution_count": null,
   "id": "60b71010",
   "metadata": {},
   "outputs": [],
   "source": [
    "# 백내장 valid 옮기기 (원본)\n",
    "save_folder = '/home/hackerton/Data/Eye2/Validation/' + eye_name[3] + '/2/'\n",
    "size=(224,224)\n",
    "if not os.path.exists(save_folder):\n",
    "    os.makedirs(save_folder)\n",
    "validation_f(eye_list[3][5],size)"
   ]
  },
  {
   "cell_type": "code",
   "execution_count": null,
   "id": "bd1078b4",
   "metadata": {},
   "outputs": [],
   "source": [
    "# 유루증 data 생성 (마스킹+원본)\n",
    "save_folder = '/home/hackerton/Data/Eye2/Train/' + eye_name[2] + '/0/'\n",
    "size=(224,224)\n",
    "if not os.path.exists(save_folder):\n",
    "    os.makedirs(save_folder)\n",
    "make_data(eye_list[2][0],size, Epiphora_p) # data 만들기"
   ]
  },
  {
   "cell_type": "code",
   "execution_count": null,
   "id": "d310ca23",
   "metadata": {},
   "outputs": [],
   "source": [
    "# 유루증 data 생성 (마스킹+원본)\n",
    "save_folder = '/home/hackerton/Data/Eye2/Train/' + eye_name[2] + '/1/'\n",
    "size=(224,224)\n",
    "if not os.path.exists(save_folder):\n",
    "    os.makedirs(save_folder)\n",
    "make_data(eye_list[2][1],size, Epiphora_p) # data 만들기"
   ]
  },
  {
   "cell_type": "code",
   "execution_count": null,
   "id": "694c7b69",
   "metadata": {},
   "outputs": [],
   "source": [
    "# 유루증 valid 옮기기 (마스킹)\n",
    "save_folder = '/home/hackerton/Data/Eye/Validation/' + eye_name[2] + '/0/'\n",
    "size=(224,224)\n",
    "if not os.path.exists(save_folder):\n",
    "    os.makedirs(save_folder)\n",
    "make_data2(eye_list[2][2],size, Epiphora_p)"
   ]
  },
  {
   "cell_type": "code",
   "execution_count": null,
   "id": "66fd72b9",
   "metadata": {},
   "outputs": [],
   "source": [
    "# 유루증 valid 옮기기 (원본)\n",
    "save_folder = '/home/hackerton/Data/Eye2/Validation/' + eye_name[2] + '/0/'\n",
    "size=(224,224)\n",
    "if not os.path.exists(save_folder):\n",
    "    os.makedirs(save_folder)\n",
    "validation_f(eye_list[2][2],size)"
   ]
  },
  {
   "cell_type": "code",
   "execution_count": null,
   "id": "3a053ce8",
   "metadata": {},
   "outputs": [],
   "source": [
    "# 유루증 valid 옮기기 (마스킹)\n",
    "save_folder = '/home/hackerton/Data/Eye/Validation/' + eye_name[2] + '/1/'\n",
    "size=(224,224)\n",
    "if not os.path.exists(save_folder):\n",
    "    os.makedirs(save_folder)\n",
    "make_data2(eye_list[2][3],size, Epiphora_p)"
   ]
  },
  {
   "cell_type": "code",
   "execution_count": null,
   "id": "914688a2",
   "metadata": {},
   "outputs": [],
   "source": [
    "# 유루증 valid 옮기기 (원본)\n",
    "save_folder = '/home/hackerton/Data/Eye2/Validation/' + eye_name[2] + '/1/'\n",
    "size=(224,224)\n",
    "if not os.path.exists(save_folder):\n",
    "    os.makedirs(save_folder)\n",
    "validation_f(eye_list[2][3],size)"
   ]
  },
  {
   "cell_type": "code",
   "execution_count": null,
   "id": "d7173b74",
   "metadata": {},
   "outputs": [],
   "source": [
    "# 안검내반증 data 생성 (마스킹+원본)\n",
    "save_folder = '/home/hackerton/Data/Eye2/Train/' + eye_name[1] + '/0/'\n",
    "size=(224,224)\n",
    "if not os.path.exists(save_folder):\n",
    "    os.makedirs(save_folder)\n",
    "make_data(eye_list[1][0],size, Entropion_p) # data 만들기"
   ]
  },
  {
   "cell_type": "code",
   "execution_count": null,
   "id": "ebd331b8",
   "metadata": {},
   "outputs": [],
   "source": [
    "# 안검내반증 data 생성 (마스킹+원본)\n",
    "save_folder = '/home/hackerton/Data/Eye2/Train/' + eye_name[1] + '/1/'\n",
    "size=(224,224)\n",
    "if not os.path.exists(save_folder):\n",
    "    os.makedirs(save_folder)\n",
    "make_data(eye_list[1][1],size, Entropion_p) "
   ]
  },
  {
   "cell_type": "code",
   "execution_count": null,
   "id": "f8e70222",
   "metadata": {},
   "outputs": [],
   "source": [
    "# 안검내반증 valid 옮기기 (마스킹)\n",
    "save_folder = '/home/hackerton/Data/Eye/Validation/' + eye_name[1] + '/0/'\n",
    "size=(224,224)\n",
    "if not os.path.exists(save_folder):\n",
    "    os.makedirs(save_folder)\n",
    "make_data2(eye_list[1][2],size, Entropion_p)"
   ]
  },
  {
   "cell_type": "code",
   "execution_count": null,
   "id": "73f79a61",
   "metadata": {},
   "outputs": [],
   "source": [
    "# 안검내반증 valid 옮기기 (원본)\n",
    "save_folder = '/home/hackerton/Data/Eye2/Validation/' + eye_name[1] + '/0/'\n",
    "size=(224,224)\n",
    "if not os.path.exists(save_folder):\n",
    "    os.makedirs(save_folder)\n",
    "validation_f(eye_list[1][2],size)"
   ]
  },
  {
   "cell_type": "code",
   "execution_count": null,
   "id": "bcaf8262",
   "metadata": {},
   "outputs": [],
   "source": [
    "# 안검내반증 valid 옮기기 (마스킹)\n",
    "save_folder = '/home/hackerton/Data/Eye/Validation/' + eye_name[1] + '/1/'\n",
    "size=(224,224)\n",
    "if not os.path.exists(save_folder):\n",
    "    os.makedirs(save_folder)\n",
    "make_data2(eye_list[1][3],size, Entropion_p)"
   ]
  },
  {
   "cell_type": "code",
   "execution_count": null,
   "id": "2f53eabd",
   "metadata": {},
   "outputs": [],
   "source": [
    "# 안검내반증 valid 옮기기 (원본)\n",
    "save_folder = '/home/hackerton/Data/Eye2/Validation/' + eye_name[1] + '/1/'\n",
    "size=(224,224)\n",
    "if not os.path.exists(save_folder):\n",
    "    os.makedirs(save_folder)\n",
    "validation_f(eye_list[1][3],size)"
   ]
  },
  {
   "cell_type": "code",
   "execution_count": null,
   "id": "ba3ae100",
   "metadata": {},
   "outputs": [],
   "source": [
    "# 확인용\n",
    "save_folder = '/home/hackerton/Data/Eye2/Validation/' + eye_name[0] + '/0/'\n",
    "os.listdir( save_folder )"
   ]
  },
  {
   "attachments": {
    "image.png": {
     "image/png": "[encoded data removed]"
    }
   },
   "cell_type": "markdown",
   "id": "c72aa311",
   "metadata": {},
   "source": [
    "![image.png](attachment:image.png)"
   ]
  },
  {
   "cell_type": "code",
   "execution_count": null,
   "id": "8c27929a",
   "metadata": {},
   "outputs": [],
   "source": [
    "img=image.load_img(save_folder+'D_d8ea09c1-2cd0-11ec-8402-0a7404972c70.png')\n",
    "img"
   ]
  },
  {
   "attachments": {
    "image.png": {
     "image/png": "[encoded data removed]"
    }
   },
   "cell_type": "markdown",
   "id": "d060387f",
   "metadata": {},
   "source": [
    "![image.png](attachment:image.png)"
   ]
  },
  {
   "cell_type": "code",
   "execution_count": null,
   "id": "ac381ada",
   "metadata": {},
   "outputs": [],
   "source": [
    "# 리눅스 환경 번외"
   ]
  },
  {
   "attachments": {
    "image.png": {
     "image/png": "[encoded data removed]"
    }
   },
   "cell_type": "markdown",
   "id": "f3cb1823",
   "metadata": {},
   "source": [
    "![image.png](attachment:image.png)"
   ]
  },
  {
   "cell_type": "code",
   "execution_count": null,
   "id": "0c3ae28f",
   "metadata": {},
   "outputs": [],
   "source": []
  }
 ],
 "metadata": {
  "kernelspec": {
   "display_name": "Python 3",
   "language": "python",
   "name": "python3"
  },
  "language_info": {
   "codemirror_mode": {
    "name": "ipython",
    "version": 3
   },
   "file_extension": ".py",
   "mimetype": "text/x-python",
   "name": "python",
   "nbconvert_exporter": "python",
   "pygments_lexer": "ipython3",
   "version": "3.8.8"
  }
 },
 "nbformat": 4,
 "nbformat_minor": 5
}
